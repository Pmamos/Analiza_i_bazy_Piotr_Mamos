{
 "cells": [
  {
   "cell_type": "code",
   "execution_count": 1,
   "metadata": {},
   "outputs": [],
   "source": [
    "import pandas as pd\n",
    "import re\n",
    "from io import StringIO"
   ]
  },
  {
   "cell_type": "code",
   "execution_count": 2,
   "metadata": {},
   "outputs": [],
   "source": [
    "weather_txt = open(\"../AnalysisData/weather.txt\", \"r\")\n",
    "weather =\"\"\n",
    "column = [\"id\",\"ym\",\"element\"]\n",
    "for i in range(1,33):\n",
    "    column.append(str(i))\n",
    "weather += \"\\n\"\n",
    "weather_b = \"\"\n",
    "weather_c = \"\"\n",
    "weather += re.sub(\"S\", \",\",weather_txt.read())\n",
    "weather_b = re.sub(\"-9999\", \",NaN,\",weather)\n",
    "weather_c = re.sub(\"I \", \",\",weather_b)\n",
    "weather_b = re.sub(\" I\", \",\",weather_c)\n",
    "weather = re.sub(\" \",\"\",weather_b)\n",
    "weather_b = re.sub(\"AX\",\"AX,\",weather)\n",
    "weather_c = re.sub(\"IN\",\"IN,\",weather_b)\n",
    "weather = re.sub(\"CP\",\"CP,\",weather_c)\n",
    "weather_b = re.sub(\",,\",\",\",weather)\n",
    "weather_c = re.sub(\"MX000017004\",\"MX000017004,\",weather_b)\n",
    "weather = re.sub(\"TM\",\",TM\",weather_c)\n",
    "weather_b = re.sub(\"PRCP\",\",NaN\",weather)\n",
    "csvStringIO = StringIO(weather_b)\n",
    "\n",
    "    \n",
    "weather_csv = pd.read_csv(csvStringIO, names=column)\n"
   ]
  },
  {
   "cell_type": "code",
   "execution_count": 3,
   "metadata": {},
   "outputs": [
    {
     "name": "stdout",
     "output_type": "stream",
     "text": [
      "               id      ym element    1    2    3    4      5    6    7  ...  \\\n",
      "1668  MX000017004  201001    TMAX  NaN  NaN  NaN  NaN    NaN  NaN  NaN  ...   \n",
      "1669  MX000017004  201001    TMIN  NaN  NaN  NaN  NaN    NaN  NaN  NaN  ...   \n",
      "1670  MX000017004  201001     NaN  NaN  NaN  NaN  NaN    0.0  NaN    0  ...   \n",
      "1671  MX000017004  201002    TMAX  NaN  273  241  NaN    NaN  NaN  NaN  ...   \n",
      "1672  MX000017004  201002    TMIN  NaN  144  144  NaN    NaN  NaN  NaN  ...   \n",
      "1673  MX000017004  201002     NaN  NaN    0    0  NaN    NaN    0    0  ...   \n",
      "1674  MX000017004  201003    TMAX  NaN  NaN  NaN  NaN  321.0  NaN  NaN  ...   \n",
      "1675  MX000017004  201003    TMIN  NaN  NaN  NaN  NaN  142.0  NaN  NaN  ...   \n",
      "1676  MX000017004  201003     NaN  NaN    0  NaN    0    0.0    0  NaN  ...   \n",
      "1677  MX000017004  201004    TMAX  NaN  NaN  NaN  NaN    NaN  NaN  NaN  ...   \n",
      "1678  MX000017004  201004    TMIN  NaN  NaN  NaN  NaN    NaN  NaN  NaN  ...   \n",
      "1679  MX000017004  201004     NaN    0  NaN    0  NaN    NaN    0  NaN  ...   \n",
      "1680  MX000017004  201005    TMAX  NaN  NaN  NaN  NaN    NaN  NaN  NaN  ...   \n",
      "1681  MX000017004  201005    TMIN  NaN  NaN  NaN  NaN    NaN  NaN  NaN  ...   \n",
      "1682  MX000017004  201005     NaN  NaN  NaN  NaN    0    NaN    0  NaN  ...   \n",
      "\n",
      "       23   24   25   26     27   28   29     30  31  32  \n",
      "1668  NaN  NaN  NaN  NaN    NaN  NaN  NaN  278.0 NaN NaN  \n",
      "1669  NaN  NaN  NaN  NaN    NaN  NaN  NaN  145.0 NaN NaN  \n",
      "1670    0  NaN    0    0    0.0    0    0    0.0 NaN NaN  \n",
      "1671  299  NaN  NaN  NaN    NaN  NaN  NaN    NaN NaN NaN  \n",
      "1672  107  NaN  NaN  NaN    NaN  NaN  NaN    NaN NaN NaN  \n",
      "1673    0  NaN    0  NaN    NaN  NaN  NaN    NaN NaN NaN  \n",
      "1674  NaN  NaN  NaN  NaN    NaN  NaN  NaN    NaN NaN NaN  \n",
      "1675  NaN  NaN  NaN  NaN    NaN  NaN  NaN    NaN NaN NaN  \n",
      "1676    0  NaN  NaN    0    0.0  NaN  NaN    0.0 NaN NaN  \n",
      "1677  NaN  NaN  NaN  NaN  363.0  NaN  NaN    NaN NaN NaN  \n",
      "1678  NaN  NaN  NaN  NaN  167.0  NaN  NaN    NaN NaN NaN  \n",
      "1679  NaN  NaN  NaN  NaN    0.0  NaN  NaN    0.0 NaN NaN  \n",
      "1680  NaN  NaN  NaN  NaN  332.0  NaN  NaN    NaN NaN NaN  \n",
      "1681  NaN  NaN  NaN  NaN  182.0  NaN  NaN    NaN NaN NaN  \n",
      "1682  NaN  NaN  NaN  NaN    0.0  NaN   25    0.0 NaN NaN  \n",
      "\n",
      "[15 rows x 35 columns]\n"
     ]
    }
   ],
   "source": [
    "print(weather_csv[(weather_csv['ym']>200912)&(weather_csv['ym']<201006)])\n"
   ]
  },
  {
   "cell_type": "code",
   "execution_count": 4,
   "metadata": {},
   "outputs": [],
   "source": [
    "\n",
    "df = weather_csv[(weather_csv['ym']>200912)&(weather_csv['ym']<201006)]\n",
    "df = df.drop(['32'], axis=1)\n",
    "df = pd.melt(df, id_vars=['id','ym','element'])\n",
    "df = df.dropna().reset_index(drop=True)\n",
    "df['date'] = df['ym'].astype(str) + [x if int(x)>9 else '0'+x for x in df['variable'].astype(str)]\n",
    "df = df.drop(columns = ['ym','variable'])\n"
   ]
  },
  {
   "cell_type": "code",
   "execution_count": 5,
   "metadata": {},
   "outputs": [],
   "source": [
    "\n",
    "df['date'] = pd.to_datetime(df['date'], format='%Y%m%d')\n",
    "cols = df.columns.tolist()\n",
    "cols = cols[:1]+cols[-1:] + cols[1:-1]\n",
    "df = df[cols]\n"
   ]
  },
  {
   "cell_type": "code",
   "execution_count": 6,
   "metadata": {},
   "outputs": [
    {
     "name": "stdout",
     "output_type": "stream",
     "text": [
      "element                 TMAX  TMIN\n",
      "id          date                  \n",
      "MX000017004 2010-01-30  27.8  14.5\n",
      "            2010-02-02  27.3  14.4\n",
      "            2010-02-03  24.1  14.4\n",
      "            2010-02-11  29.7  13.4\n",
      "            2010-02-23  29.9  10.7\n",
      "            2010-03-05  32.1  14.2\n",
      "            2010-03-10  34.5  16.8\n",
      "            2010-03-16  31.1  17.6\n",
      "            2010-04-27  36.3  16.7\n",
      "            2010-05-27  33.2  18.2\n"
     ]
    }
   ],
   "source": [
    "df['value'] = df['value'].astype(int)/10\n",
    "df = df.sort_values(by = 'date')\n",
    "df = df.pivot_table('value', ['id', 'date'], 'element')\n",
    "print(df)"
   ]
  },
  {
   "cell_type": "code",
   "execution_count": null,
   "metadata": {},
   "outputs": [],
   "source": []
  }
 ],
 "metadata": {
  "kernelspec": {
   "display_name": "Python 3 (ipykernel)",
   "language": "python",
   "name": "python3"
  },
  "language_info": {
   "codemirror_mode": {
    "name": "ipython",
    "version": 3
   },
   "file_extension": ".py",
   "mimetype": "text/x-python",
   "name": "python",
   "nbconvert_exporter": "python",
   "pygments_lexer": "ipython3",
   "version": "3.10.2"
  }
 },
 "nbformat": 4,
 "nbformat_minor": 1
}