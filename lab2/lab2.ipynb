{
 "cells": [
  {
   "cell_type": "markdown",
   "metadata": {
    "collapsed": true
   },
   "source": [
    "# Ćwiczenie 2 - TIER protocol i tidy data\n",
    "Celem ćwiczenia jest pobranie i uporządkowanie przydzielonego zbioru danych zgodnie z protokołem TIER i zasadami \"tidy data\".\n",
    "\n",
    "Dla przypomnienia:\n",
    "\n",
    "W uporządkowanych danych:\n",
    "\n",
    "Każda zmienna tworzy kolumnę.\n",
    "\n",
    "Każda obserwacja tworzy rząd.\n",
    "\n",
    "Każdy typ jednostki obserwacyjnej tworzy tabelę.\n",
    "\n",
    "TIER Protocol\n",
    "\n",
    "Mamy 5 zbiorów danych.\n",
    "\n",
    "weather.txt - dane pogodowe. Dzienne dane pogodowe z Global Historical Climatology Network dla jednej stacji pogodowej (MX17004) w Meksyku przez pięć miesięcy w 2010 roku. Pierwsza kolumna zawiera dane (id, rok, miesiąc,nazwa zmiennych), w pozostałych kolumnach są wartości zmiennych na dany dzien miesiąca (dzień, d1 – d31). Miesiące z mniej niż 31 dni mają strukturalne brakujące wartości dla ostatniego dnia (dni) miesiąca.\n",
    "tb.csv - dane o gruźlicy w różnych grupach pacjentów (tabela koduje jednocześnie informacje o wieku i o płci w kolumnach i zawiera dużo pustych miejsc)\n",
    "billboard.csv - notowania billboardu (w tabeli jest data wejścia na listę i ranking w kolejnych tygodniach, nie da się wprost odczytać rankingu w danym tygodniu kalendarzowym i jest dużo pustych miejsc)\n",
    "drinks.csv Dane i informacje: https://fivethirtyeight.com/features/dear-mona-followup-where-do-people-drink-the-most-beer-wine-and-spirits/\n",
    "earthquake_data.csv https://fivethirtyeight.com/features/the-rock-isnt-alone-lots-of-people-are-worried-about-the-big-one/ (należy zmienić nazwy kolumn i przygotować tabelę łączącą wiek, płeć i odpowiedź na pytanie \"Do you think the \"Big One\" will occur in your lifetime?\"\n",
    "Użyj Pandas.\n",
    "\n",
    "Numer swojego datasetu uzyskujemy ze wzoru (N mod 5) +1, gdzie N to liczba liter w nazwisku."
   ]
  },
  {
   "cell_type": "code",
   "execution_count": 1,
   "metadata": {},
   "outputs": [],
   "source": [
    "import pandas as pd"
   ]
  },
  {
   "cell_type": "code",
   "execution_count": 2,
   "metadata": {},
   "outputs": [],
   "source": [
    "DIR = \"Datasets/\" #path to data"
   ]
  },
  {
   "cell_type": "code",
   "execution_count": 14,
   "metadata": {},
   "outputs": [
    {
     "name": "stdout",
     "output_type": "stream",
     "text": [
      "                                                      0\n",
      "0     MX000017004195504TMAX  310  I  310  I  310  I ...\n",
      "1     MX000017004195504TMIN  150  I  150  I  160  I ...\n",
      "2     MX000017004195504PRCP    0  I    0  I    0  I ...\n",
      "3     MX000017004195505TMAX  310  I  310  I  310  I ...\n",
      "4     MX000017004195505TMIN  200  I  160  I  160  I ...\n",
      "...                                                 ...\n",
      "1709  MX000017004201103TMIN-9999   -9999   -9999   -...\n",
      "1710  MX000017004201103PRCP    0  S-9999       0  S ...\n",
      "1711  MX000017004201104TMAX-9999     350  S-9999   -...\n",
      "1712  MX000017004201104TMIN-9999     168  S-9999   -...\n",
      "1713  MX000017004201104PRCP    0  S    0  S-9999   -...\n",
      "\n",
      "[1714 rows x 1 columns]\n"
     ]
    }
   ],
   "source": [
    "weather = pd.read_csv(f\"{DIR}weather.txt\", header = None)\n",
    "print(weather)"
   ]
  },
  {
   "cell_type": "code",
   "execution_count": null,
   "metadata": {},
   "outputs": [],
   "source": []
  }
 ],
 "metadata": {
  "kernelspec": {
   "display_name": "Python 3 (ipykernel)",
   "language": "python",
   "name": "python3"
  },
  "language_info": {
   "codemirror_mode": {
    "name": "ipython",
    "version": 3
   },
   "file_extension": ".py",
   "mimetype": "text/x-python",
   "name": "python",
   "nbconvert_exporter": "python",
   "pygments_lexer": "ipython3",
   "version": "3.10.2"
  }
 },
 "nbformat": 4,
 "nbformat_minor": 1
}